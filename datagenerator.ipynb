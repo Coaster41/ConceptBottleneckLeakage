{
 "cells": [
  {
   "cell_type": "code",
   "execution_count": 109,
   "metadata": {},
   "outputs": [
    {
     "name": "stdout",
     "output_type": "stream",
     "text": [
      "cuda\n"
     ]
    }
   ],
   "source": [
    "import torch\n",
    "import torch.nn as nn\n",
    "import random\n",
    "device = 'cuda' if torch.cuda.is_available() else 'cpu'\n",
    "import pandas as pd\n",
    "from sklearn.metrics import confusion_matrix\n",
    "import seaborn as sns\n",
    "import numpy as np\n",
    "print(device)"
   ]
  },
  {
   "cell_type": "code",
   "execution_count": 2,
   "metadata": {},
   "outputs": [],
   "source": [
    "# Helpers\n",
    "class AverageMeter(object):\n",
    "    def __init__(self):\n",
    "        self.reset()\n",
    "\n",
    "    def reset(self):\n",
    "        self.val = 0\n",
    "        self.avg = 0\n",
    "        self.sum = 0\n",
    "        self.count = 0\n",
    "\n",
    "    def update(self, val, n=1):\n",
    "        self.val = val\n",
    "        self.sum += val * n\n",
    "        self.count += n\n",
    "        self.avg = self.sum / self.count\n",
    "\n",
    "def multi_label_acc(y_hat, y):\n",
    "    return torch.count_nonzero(torch.round(y_hat) == y).item() / y.numel()\n",
    "\n",
    "def classification_acc(y_hat, y):\n",
    "    return torch.count_nonzero(torch.argmax(y_hat, dim=1) == y).item() / y.numel()"
   ]
  },
  {
   "cell_type": "code",
   "execution_count": 163,
   "metadata": {},
   "outputs": [],
   "source": [
    "class Default_Model(torch.nn.Module):\n",
    "    def __init__(self, num_x, num_y, depth=3, width=16, activation_func=nn.ReLU()):\n",
    "        super(Default_Model, self).__init__()\n",
    "        self.activation = activation_func\n",
    "        self.linears = []\n",
    "        prev_width = num_x\n",
    "        for i in range(depth):\n",
    "            if i == depth - 1:\n",
    "                self.linears.append(nn.Linear(prev_width, num_y))\n",
    "            else:\n",
    "                if isinstance(width, list):\n",
    "                    self.linears.append(nn.Linear(prev_width, width[i]))\n",
    "                    prev_width = width[i]\n",
    "                else:\n",
    "                    self.linears.append(nn.Linear(prev_width, width))\n",
    "                    prev_width = width\n",
    "        self.linears = nn.Sequential(*self.linears)\n",
    "    \n",
    "    def forward(self, x):\n",
    "        for layer_num, layer in enumerate(self.linears):\n",
    "            x = layer(x)\n",
    "            if layer_num < len(self.linears)-1:\n",
    "                x = self.activation(x)\n",
    "        return x\n",
    "\n",
    "\n",
    "class FullModel(torch.nn.Module):\n",
    "    def __init__(self, x_to_c_model, c_to_y_model, concept_activation=nn.Sigmoid(), label_activation=nn.Sigmoid()):\n",
    "        super(FullModel, self).__init__()\n",
    "        self.x_to_c_model = x_to_c_model\n",
    "        self.c_to_y_model = c_to_y_model\n",
    "        self.concept_activation = concept_activation\n",
    "        self.label_activation = label_activation\n",
    "    \n",
    "    def forward(self, x):\n",
    "        c_out = self.x_to_c_model(x)\n",
    "        if self.concept_activation:\n",
    "            c_out = self.concept_activation(c_out)\n",
    "        y_out = self.c_to_y_model(c_out)\n",
    "        if self.label_activation:\n",
    "            y_out = self.label_activation(y_out)\n",
    "        return c_out, y_out\n",
    "\n",
    "def init_weights(m):\n",
    "    if isinstance(m, nn.Linear):\n",
    "        torch.nn.init.xavier_uniform_(m.weight)\n",
    "        m.bias.data.fill_(random.random()*0.05-0.025)"
   ]
  },
  {
   "cell_type": "code",
   "execution_count": 164,
   "metadata": {},
   "outputs": [
    {
     "name": "stdout",
     "output_type": "stream",
     "text": [
      "FullModel(\n",
      "  (x_to_c_model): Default_Model(\n",
      "    (activation): ReLU()\n",
      "    (linears): Sequential(\n",
      "      (0): Linear(in_features=32, out_features=16, bias=True)\n",
      "      (1): Linear(in_features=16, out_features=16, bias=True)\n",
      "      (2): Linear(in_features=16, out_features=32, bias=True)\n",
      "    )\n",
      "  )\n",
      "  (c_to_y_model): Default_Model(\n",
      "    (activation): ReLU()\n",
      "    (linears): Sequential(\n",
      "      (0): Linear(in_features=32, out_features=16, bias=True)\n",
      "      (1): Linear(in_features=16, out_features=16, bias=True)\n",
      "      (2): Linear(in_features=16, out_features=6, bias=True)\n",
      "    )\n",
      "  )\n",
      ")\n"
     ]
    }
   ],
   "source": [
    "x_num = 32\n",
    "c_num = 32\n",
    "y_num = 6\n",
    "x_to_c_model = Default_Model(x_num,c_num)\n",
    "c_to_y_model = Default_Model(c_num,y_num)\n",
    "x_to_c_model.apply(init_weights)\n",
    "c_to_y_model.apply(init_weights)\n",
    "def argmax(x):\n",
    "    return torch.argmax(x, dim=1)\n",
    "def mult_final(x):\n",
    "    return torch.argmax(torch.round((x*100)%1), dim=1)\n",
    "def mult(x):\n",
    "    return torch.round((x*100)%1)\n",
    "full_model = FullModel(x_to_c_model, c_to_y_model, concept_activation=torch.round, label_activation=argmax)\n",
    "full_model.eval()\n",
    "print(full_model)"
   ]
  },
  {
   "cell_type": "code",
   "execution_count": 165,
   "metadata": {},
   "outputs": [
    {
     "name": "stdout",
     "output_type": "stream",
     "text": [
      "tensor([0.2816, 0.8768, 0.1781, 0.4530, 0.9060, 0.3068, 0.1451, 0.1197, 0.9946,\n",
      "        0.4835, 0.5696, 0.4491, 0.8909, 0.3715, 0.9733, 0.7386, 0.1216, 0.5598,\n",
      "        0.8291, 0.1776, 0.3852, 0.9920, 0.4635, 0.9295, 0.8952, 0.1572, 0.1601,\n",
      "        0.0892, 0.2568, 0.8663, 0.7776, 0.4382]) \n",
      " tensor([-0., -0., -0., -0., -0., -0., 0., 0., 0., 0., 0., 0., -0., 0., 0., 0., 0., 0., -0., 0., -0., 0., -0., 0.,\n",
      "        -0., 0., -0., 0., -0., 0., -0., -0.], grad_fn=<SelectBackward0>) \n",
      " tensor([2, 2, 2, 2, 2, 2, 2, 2, 2, 2, 2, 2, 2, 2, 2, 2, 2, 2, 2, 2, 2, 2, 2, 2,\n",
      "        2, 2, 2, 2, 2, 2, 2, 2])\n"
     ]
    }
   ],
   "source": [
    "batch_size = 32\n",
    "X = torch.rand(batch_size, x_num, requires_grad=False)\n",
    "c, y = full_model(X)\n",
    "# print(y)\n",
    "print(X[0], '\\n', c[0], '\\n', y)\n",
    "# print(y[0]%1)"
   ]
  },
  {
   "cell_type": "code",
   "execution_count": 166,
   "metadata": {},
   "outputs": [],
   "source": [
    "batch_size = 10**5\n",
    "data_fn = 'data/synthetic_data.pkl'\n",
    "X = torch.rand(batch_size, x_num, requires_grad=False)\n",
    "c, y = full_model(X)\n",
    "xcy = torch.concatenate([X,c,y.reshape(batch_size,1)], dim=1)\n",
    "torch.save(xcy.detach(), data_fn)"
   ]
  },
  {
   "cell_type": "code",
   "execution_count": 167,
   "metadata": {},
   "outputs": [
    {
     "name": "stdout",
     "output_type": "stream",
     "text": [
      "torch.Size([100000, 65])\n"
     ]
    }
   ],
   "source": [
    "data_fn = 'data/synthetic_data.pkl'\n",
    "xcy = torch.load(data_fn, weights_only=True)\n",
    "print(xcy.shape)"
   ]
  },
  {
   "cell_type": "markdown",
   "metadata": {},
   "source": [
    "# Cover Type Prediction"
   ]
  },
  {
   "cell_type": "code",
   "execution_count": 168,
   "metadata": {},
   "outputs": [],
   "source": [
    "class CoverDataset(torch.utils.data.Dataset):\n",
    "    def __init__(self, data):\n",
    "        self.data = data\n",
    "\n",
    "    def __len__(self):\n",
    "        return self.data.shape[0]\n",
    "    \n",
    "    def __getitem__(self, idx):\n",
    "        return self.data[idx,:-1], self.data[idx,-1]"
   ]
  },
  {
   "cell_type": "code",
   "execution_count": 169,
   "metadata": {},
   "outputs": [],
   "source": [
    "batch_size = 1024\n",
    "cover_dataset = pd.read_csv('data/covertype_norm.csv', header=0, dtype=float)\n",
    "Xy = torch.tensor(cover_dataset.to_numpy())\n",
    "\n",
    "dataset = CoverDataset(Xy)\n",
    "train_ratio = 0.8\n",
    "train_size = int(train_ratio * len(dataset))\n",
    "test_size = len(dataset) - train_size\n",
    "train_dataset, test_dataset = torch.utils.data.random_split(dataset, [train_size, test_size])\n",
    "train_loader = torch.utils.data.DataLoader(train_dataset, batch_size=batch_size, shuffle=True, num_workers=0)\n",
    "test_loader = torch.utils.data.DataLoader(test_dataset, batch_size=batch_size, shuffle=False, num_workers=0)"
   ]
  },
  {
   "cell_type": "code",
   "execution_count": 170,
   "metadata": {},
   "outputs": [
    {
     "name": "stdout",
     "output_type": "stream",
     "text": [
      "FullModel(\n",
      "  (x_to_c_model): Default_Model(\n",
      "    (activation): ReLU()\n",
      "    (linears): Sequential(\n",
      "      (0): Linear(in_features=54, out_features=32, bias=True)\n",
      "    )\n",
      "  )\n",
      "  (c_to_y_model): Default_Model(\n",
      "    (activation): ReLU()\n",
      "    (linears): Sequential(\n",
      "      (0): Linear(in_features=32, out_features=512, bias=True)\n",
      "      (1): Linear(in_features=512, out_features=7, bias=True)\n",
      "    )\n",
      "  )\n",
      "  (label_activation): Softmax(dim=1)\n",
      ")\n"
     ]
    }
   ],
   "source": [
    "x_num = 54\n",
    "c_num = 32\n",
    "y_num = 7\n",
    "x_to_c_model = Default_Model(x_num,c_num, width=1024, depth=1)\n",
    "c_to_y_model = Default_Model(c_num,y_num, width=512, depth=2)\n",
    "x_to_c_model.apply(init_weights)\n",
    "c_to_y_model.apply(init_weights)\n",
    "def sigmoid_round(x):\n",
    "    return torch.round(torch.nn.functional.sigmoid(x))\n",
    "full_model = FullModel(x_to_c_model, c_to_y_model, concept_activation=sigmoid_round, label_activation=nn.Softmax(dim=1)).to(device)\n",
    "\n",
    "y_criterion = nn.CrossEntropyLoss()\n",
    "optimizer = torch.optim.NAdam(full_model.parameters(), lr=0.001)\n",
    "loss_meter = AverageMeter()\n",
    "acc_meter = AverageMeter()\n",
    "\n",
    "print(full_model)"
   ]
  },
  {
   "cell_type": "code",
   "execution_count": 171,
   "metadata": {},
   "outputs": [
    {
     "name": "stdout",
     "output_type": "stream",
     "text": [
      "Epoch: 0 Loss: 1.8635830484205904 y_acc: 0.3276446107687841\n",
      "Epoch: 1 Loss: 1.7416663904684175 y_acc: 0.4446559344452689\n",
      "Epoch: 2 Loss: 1.7006563302312785 y_acc: 0.47972384424299125\n",
      "Epoch: 3 Loss: 1.68286917239392 y_acc: 0.4917895280188405\n",
      "Epoch: 4 Loss: 1.6707931484188323 y_acc: 0.503726167048424\n",
      "Epoch: 5 Loss: 1.6609283382401803 y_acc: 0.5136303513243217\n",
      "Epoch: 6 Loss: 1.6536845436218335 y_acc: 0.5188244023615188\n",
      "Epoch: 7 Loss: 1.6465937601857352 y_acc: 0.5256637739136045\n",
      "Epoch: 8 Loss: 1.6415442252892134 y_acc: 0.530664257831403\n",
      "Epoch: 9 Loss: 1.636447031301741 y_acc: 0.5345678614059425\n",
      "Epoch: 10 Loss: 1.631632958884685 y_acc: 0.5407942704132658\n",
      "Epoch: 11 Loss: 1.6273743852275446 y_acc: 0.5439558666967771\n",
      "Epoch: 12 Loss: 1.6238113806225174 y_acc: 0.5473110300996871\n",
      "Epoch: 13 Loss: 1.620294474919319 y_acc: 0.5500854921444011\n",
      "Epoch: 14 Loss: 1.6171212138316475 y_acc: 0.5532470884279124\n",
      "Epoch: 15 Loss: 1.6131014871755738 y_acc: 0.5593444526889699\n",
      "Epoch: 16 Loss: 1.610416508730094 y_acc: 0.5623770042262154\n",
      "Epoch: 17 Loss: 1.6079279511891038 y_acc: 0.562860922024712\n",
      "Epoch: 18 Loss: 1.6049785710697917 y_acc: 0.5666677420395522\n",
      "Epoch: 19 Loss: 1.602158969908594 y_acc: 0.5696035100170984\n",
      "Epoch: 20 Loss: 1.5994992965028514 y_acc: 0.5717327483304836\n",
      "Epoch: 21 Loss: 1.5972331079409254 y_acc: 0.5741200761364003\n",
      "Epoch: 22 Loss: 1.595085716429851 y_acc: 0.5771526276736458\n",
      "Epoch: 23 Loss: 1.5926052322348314 y_acc: 0.5794754331064297\n",
      "Epoch: 24 Loss: 1.5905592877868606 y_acc: 0.5831209471884375\n",
      "Epoch: 25 Loss: 1.5875837010491505 y_acc: 0.5863148046585154\n",
      "Epoch: 26 Loss: 1.5781464808317263 y_acc: 0.59760621995677\n",
      "Epoch: 27 Loss: 1.568360115569011 y_acc: 0.6068006581282059\n",
      "Epoch: 28 Loss: 1.5604728802244914 y_acc: 0.6148982159563828\n",
      "Epoch: 29 Loss: 1.5546929786392738 y_acc: 0.6232538632770913\n",
      "Epoch: 30 Loss: 1.5516938185174185 y_acc: 0.6249314449785464\n",
      "Epoch: 31 Loss: 1.5478619472685986 y_acc: 0.6288673097396522\n",
      "Epoch: 32 Loss: 1.545426579180443 y_acc: 0.6330290028067233\n",
      "Epoch: 33 Loss: 1.5426937280272108 y_acc: 0.6349324128141433\n",
      "Epoch: 34 Loss: 1.540883480139185 y_acc: 0.6360615543439687\n",
      "Epoch: 35 Loss: 1.53815443535699 y_acc: 0.6390618446946479\n",
      "Epoch: 36 Loss: 1.5369459232614975 y_acc: 0.6385456657095848\n",
      "Epoch: 37 Loss: 1.5346712632291097 y_acc: 0.6414814336871311\n",
      "Epoch: 38 Loss: 1.5327775867753641 y_acc: 0.6441913733587121\n",
      "Epoch: 39 Loss: 1.5311617179851775 y_acc: 0.6451592089557054\n",
      "Epoch: 40 Loss: 1.5292596301059629 y_acc: 0.6476755815078878\n",
      "Epoch: 41 Loss: 1.5274848723083125 y_acc: 0.649804819821273\n",
      "Epoch: 42 Loss: 1.5263896287439422 y_acc: 0.6507403942316998\n",
      "Epoch: 43 Loss: 1.5242650200137131 y_acc: 0.6529664161047843\n",
      "Epoch: 44 Loss: 1.5229612339557084 y_acc: 0.6545794754331065\n",
      "Epoch: 45 Loss: 1.5218958101391957 y_acc: 0.6547407813659386\n",
      "Epoch: 46 Loss: 1.5199392402264773 y_acc: 0.658934735619576\n",
      "Epoch: 47 Loss: 1.5188166598341144 y_acc: 0.6599670935897022\n",
      "Epoch: 48 Loss: 1.5176211873435181 y_acc: 0.6600316159628351\n",
      "Epoch: 49 Loss: 1.5163271021419145 y_acc: 0.6602251830822338\n"
     ]
    }
   ],
   "source": [
    "epochs = 50\n",
    "for epoch in range(epochs):\n",
    "    loss_meter.reset()\n",
    "    acc_meter.reset()\n",
    "    for batch, (x, y) in enumerate(train_loader):\n",
    "        x = x.float().to(device)\n",
    "        y = y.squeeze().type(torch.LongTensor).to(device)\n",
    "        \n",
    "        c_pred, y_pred = full_model(x)\n",
    "\n",
    "        y_loss = y_criterion(y_pred, y)\n",
    "        loss = y_loss\n",
    "        \n",
    "        optimizer.zero_grad()\n",
    "        loss.backward()\n",
    "        optimizer.step()\n",
    "\n",
    "        loss_meter.update(loss.item(), x.shape[0])\n",
    "        acc_meter.update(classification_acc(y_pred, y), x.shape[0])\n",
    "    \n",
    "    print(f\"Epoch: {epoch} Loss: {loss_meter.avg} y_acc: {acc_meter.avg}\")"
   ]
  },
  {
   "cell_type": "code",
   "execution_count": 172,
   "metadata": {},
   "outputs": [
    {
     "name": "stdout",
     "output_type": "stream",
     "text": [
      "tensor(1., device='cuda:0', grad_fn=<MaxBackward1>)\n",
      "tensor(1., device='cuda:0', grad_fn=<MaxBackward1>)\n",
      "tensor(1., device='cuda:0', grad_fn=<MaxBackward1>)\n",
      "tensor(1., device='cuda:0', grad_fn=<MaxBackward1>)\n",
      "tensor(1., device='cuda:0', grad_fn=<MaxBackward1>)\n",
      "tensor(1., device='cuda:0', grad_fn=<MaxBackward1>)\n",
      "tensor(1., device='cuda:0', grad_fn=<MaxBackward1>)\n",
      "tensor(1., device='cuda:0', grad_fn=<MaxBackward1>)\n",
      "tensor(1., device='cuda:0', grad_fn=<MaxBackward1>)\n",
      "tensor(1., device='cuda:0', grad_fn=<MaxBackward1>)\n",
      "tensor(1., device='cuda:0', grad_fn=<MaxBackward1>)\n",
      "tensor(1., device='cuda:0', grad_fn=<MaxBackward1>)\n",
      "tensor(1., device='cuda:0', grad_fn=<MaxBackward1>)\n",
      "tensor(1., device='cuda:0', grad_fn=<MaxBackward1>)\n",
      "tensor(1., device='cuda:0', grad_fn=<MaxBackward1>)\n",
      "tensor(1., device='cuda:0', grad_fn=<MaxBackward1>)\n",
      "tensor(1., device='cuda:0', grad_fn=<MaxBackward1>)\n",
      "tensor(1., device='cuda:0', grad_fn=<MaxBackward1>)\n",
      "tensor(1., device='cuda:0', grad_fn=<MaxBackward1>)\n",
      "tensor(1., device='cuda:0', grad_fn=<MaxBackward1>)\n",
      "tensor(1., device='cuda:0', grad_fn=<MaxBackward1>)\n",
      "tensor(1., device='cuda:0', grad_fn=<MaxBackward1>)\n",
      "tensor(1., device='cuda:0', grad_fn=<MaxBackward1>)\n",
      "tensor(1., device='cuda:0', grad_fn=<MaxBackward1>)\n",
      "tensor(1., device='cuda:0', grad_fn=<MaxBackward1>)\n",
      "tensor(1., device='cuda:0', grad_fn=<MaxBackward1>)\n",
      "tensor(1., device='cuda:0', grad_fn=<MaxBackward1>)\n",
      "tensor(1., device='cuda:0', grad_fn=<MaxBackward1>)\n",
      "tensor(1., device='cuda:0', grad_fn=<MaxBackward1>)\n",
      "tensor(1., device='cuda:0', grad_fn=<MaxBackward1>)\n",
      "tensor(1., device='cuda:0', grad_fn=<MaxBackward1>)\n",
      "Test Loss: 1.517335366967394 y_acc: 0.6594186534180727\n",
      "Average concepts: [0.44765344 0.48375452 0.50180507 0.36101082 0.5162455  0.57039714\n",
      " 0.6064982  0.50541514 0.20216607 0.5631769  0.38989168 0.40072203\n",
      " 0.46209386 0.49819493 0.54873645 0.49097472 0.44765344 0.45487365\n",
      " 0.599278   0.41516244 0.49458483 0.6028881  0.5270758  0.4765343\n",
      " 0.5234657  0.5090253  0.68231046 0.4296029  0.54151624 0.44765344\n",
      " 0.566787   0.31407943]\n"
     ]
    }
   ],
   "source": [
    "full_model.eval()\n",
    "loss_meter.reset()\n",
    "acc_meter.reset()\n",
    "for batch, (x, y) in enumerate(train_loader):\n",
    "    x = x.float().to(device)\n",
    "    y = y.squeeze().type(torch.LongTensor).to(device)\n",
    "    \n",
    "    c_pred, y_pred = full_model(x)\n",
    "\n",
    "    y_loss = y_criterion(y_pred, y)\n",
    "    loss = y_loss\n",
    "\n",
    "    loss_meter.update(loss.item(), x.shape[0])\n",
    "    acc_meter.update(classification_acc(y_pred, y), x.shape[0])\n",
    "\n",
    "print(f\"Test Loss: {loss_meter.avg} y_acc: {acc_meter.avg}\")\n",
    "print(f\"Average concepts: {np.mean(c_pred.detach().cpu().numpy(), 0)}\")"
   ]
  },
  {
   "cell_type": "code",
   "execution_count": 173,
   "metadata": {},
   "outputs": [
    {
     "data": {
      "text/plain": [
       "<Axes: >"
      ]
     },
     "execution_count": 173,
     "metadata": {},
     "output_type": "execute_result"
    },
    {
     "data": {
      "image/png": "[encoded data removed]",
      "text/plain": [
       "<Figure size 640x480 with 2 Axes>"
      ]
     },
     "metadata": {},
     "output_type": "display_data"
    }
   ],
   "source": [
    "cf_matrix = confusion_matrix(y.detach().cpu(), y_pred.argmax(axis=1).detach().cpu())\n",
    "sns.heatmap(cf_matrix/np.sum(cf_matrix), annot=True, fmt='.2%', cmap='Blues')"
   ]
  },
  {
   "cell_type": "code",
   "execution_count": 174,
   "metadata": {},
   "outputs": [],
   "source": [
    "X = Xy[:,:-1].float().to(device)\n",
    "full_model.eval()\n",
    "c_pred, _ = full_model(X)\n",
    "Xyc = torch.concatenate([Xy, c_pred.detach().cpu()], 1)\n",
    "torch.save(Xyc, 'data/covertype_concepts.pkl')"
   ]
  },
  {
   "cell_type": "markdown",
   "metadata": {},
   "source": [
    "# Optimize and find Concepts"
   ]
  },
  {
   "cell_type": "code",
   "execution_count": 4,
   "metadata": {},
   "outputs": [],
   "source": [
    "class SyntheticDataset(torch.utils.data.Dataset):\n",
    "    def __init__(self, data_fn, x_num, c_num, y_num):\n",
    "        self.data = torch.load(data_fn, weights_only=True)\n",
    "        self.x_num = x_num\n",
    "        self.c_num = c_num\n",
    "        self.y_num = y_num\n",
    "\n",
    "    def __len__(self):\n",
    "        return self.data.shape[0]\n",
    "    \n",
    "    def __getitem__(self, idx):\n",
    "        return self.data[idx,:self.x_num], self.data[idx,self.x_num+self.c_num:], self.data[idx,self.x_num:self.x_num+self.c_num]\n",
    "    "
   ]
  },
  {
   "cell_type": "code",
   "execution_count": 5,
   "metadata": {},
   "outputs": [],
   "source": [
    "x_num = 32\n",
    "c_num = 32\n",
    "y_num = 6\n",
    "batch_size = 1024\n",
    "data_fn = 'data/synthetic_data.pkl'\n",
    "\n",
    "dataset = SyntheticDataset(data_fn, x_num, c_num, y_num)\n",
    "train_ratio = 0.8\n",
    "train_size = int(train_ratio * len(dataset))\n",
    "test_size = len(dataset) - train_size\n",
    "train_dataset, test_dataset = torch.utils.data.random_split(dataset, [train_size, test_size])\n",
    "train_loader = torch.utils.data.DataLoader(train_dataset, batch_size=batch_size, shuffle=True, num_workers=0)\n",
    "test_loader = torch.utils.data.DataLoader(test_dataset, batch_size=batch_size, shuffle=False, num_workers=0)"
   ]
  },
  {
   "cell_type": "code",
   "execution_count": 25,
   "metadata": {},
   "outputs": [
    {
     "name": "stdout",
     "output_type": "stream",
     "text": [
      "FullModel(\n",
      "  (x_to_c_model): Default_Model(\n",
      "    (activation): ReLU()\n",
      "    (linears): Sequential(\n",
      "      (0): Linear(in_features=32, out_features=32, bias=True)\n",
      "      (1): Linear(in_features=32, out_features=32, bias=True)\n",
      "      (2): Linear(in_features=32, out_features=32, bias=True)\n",
      "    )\n",
      "  )\n",
      "  (c_to_y_model): Default_Model(\n",
      "    (activation): ReLU()\n",
      "    (linears): Sequential(\n",
      "      (0): Linear(in_features=32, out_features=32, bias=True)\n",
      "      (1): Linear(in_features=32, out_features=32, bias=True)\n",
      "      (2): Linear(in_features=32, out_features=6, bias=True)\n",
      "    )\n",
      "  )\n",
      "  (concept_activation): Sigmoid()\n",
      "  (label_activation): Softmax(dim=None)\n",
      ")\n"
     ]
    }
   ],
   "source": [
    "x_to_c_model = Default_Model(x_num,c_num, depth=3, width=32)\n",
    "c_to_y_model = Default_Model(c_num,y_num, depth=3, width=32)\n",
    "# x_to_c_model.apply(init_weights)\n",
    "# c_to_y_model.apply(init_weights)\n",
    "pred_model = FullModel(x_to_c_model, c_to_y_model, concept_activation=nn.Sigmoid(), label_activation=nn.Softmax()).to(device)\n",
    "print(pred_model)\n",
    "c_criterion = nn.BCELoss()\n",
    "c_coef = 0\n",
    "y_criterion = nn.CrossEntropyLoss()\n",
    "y_coef = 1\n",
    "optimizer = torch.optim.Adam(pred_model.parameters(), lr=0.001)\n",
    "loss_meter = AverageMeter()\n",
    "y_acc_meter = AverageMeter()\n",
    "c_acc_meter = AverageMeter()"
   ]
  },
  {
   "cell_type": "code",
   "execution_count": 26,
   "metadata": {},
   "outputs": [
    {
     "name": "stderr",
     "output_type": "stream",
     "text": [
      "/home/coco/anaconda3/envs/cbm/lib/python3.9/site-packages/torch/nn/modules/module.py:1736: UserWarning: Implicit dimension choice for softmax has been deprecated. Change the call to include dim=X as an argument.\n",
      "  return self._call_impl(*args, **kwargs)\n"
     ]
    },
    {
     "name": "stdout",
     "output_type": "stream",
     "text": [
      "Epoch: 0 Loss: 1.6561657989501952 c_acc: 0.4998546875 y_acc: 0.5127125\n",
      "Epoch: 1 Loss: 1.531499013900757 c_acc: 0.49994375 y_acc: 0.5127125\n",
      "Epoch: 2 Loss: 1.53112508392334 c_acc: 0.49994375 y_acc: 0.5127125\n",
      "Epoch: 3 Loss: 1.5310227848052977 c_acc: 0.49994375 y_acc: 0.5127125\n"
     ]
    },
    {
     "ename": "KeyboardInterrupt",
     "evalue": "",
     "output_type": "error",
     "traceback": [
      "\u001b[0;31m---------------------------------------------------------------------------\u001b[0m",
      "\u001b[0;31mKeyboardInterrupt\u001b[0m                         Traceback (most recent call last)",
      "Cell \u001b[0;32mIn[26], line 6\u001b[0m\n\u001b[1;32m      4\u001b[0m y_acc_meter\u001b[38;5;241m.\u001b[39mreset()\n\u001b[1;32m      5\u001b[0m c_acc_meter\u001b[38;5;241m.\u001b[39mreset()\n\u001b[0;32m----> 6\u001b[0m \u001b[38;5;28;01mfor\u001b[39;00m batch, (x, y, c) \u001b[38;5;129;01min\u001b[39;00m \u001b[38;5;28menumerate\u001b[39m(train_loader):\n\u001b[1;32m      7\u001b[0m     x \u001b[38;5;241m=\u001b[39m x\u001b[38;5;241m.\u001b[39mto(device)\n\u001b[1;32m      8\u001b[0m     y \u001b[38;5;241m=\u001b[39m y\u001b[38;5;241m.\u001b[39msqueeze()\u001b[38;5;241m.\u001b[39mtype(torch\u001b[38;5;241m.\u001b[39mLongTensor)\u001b[38;5;241m.\u001b[39mto(device)\n",
      "File \u001b[0;32m~/anaconda3/envs/cbm/lib/python3.9/site-packages/torch/utils/data/dataloader.py:701\u001b[0m, in \u001b[0;36m_BaseDataLoaderIter.__next__\u001b[0;34m(self)\u001b[0m\n\u001b[1;32m    698\u001b[0m \u001b[38;5;28;01mif\u001b[39;00m \u001b[38;5;28mself\u001b[39m\u001b[38;5;241m.\u001b[39m_sampler_iter \u001b[38;5;129;01mis\u001b[39;00m \u001b[38;5;28;01mNone\u001b[39;00m:\n\u001b[1;32m    699\u001b[0m     \u001b[38;5;66;03m# TODO(https://github.com/pytorch/pytorch/issues/76750)\u001b[39;00m\n\u001b[1;32m    700\u001b[0m     \u001b[38;5;28mself\u001b[39m\u001b[38;5;241m.\u001b[39m_reset()  \u001b[38;5;66;03m# type: ignore[call-arg]\u001b[39;00m\n\u001b[0;32m--> 701\u001b[0m data \u001b[38;5;241m=\u001b[39m \u001b[38;5;28;43mself\u001b[39;49m\u001b[38;5;241;43m.\u001b[39;49m\u001b[43m_next_data\u001b[49m\u001b[43m(\u001b[49m\u001b[43m)\u001b[49m\n\u001b[1;32m    702\u001b[0m \u001b[38;5;28mself\u001b[39m\u001b[38;5;241m.\u001b[39m_num_yielded \u001b[38;5;241m+\u001b[39m\u001b[38;5;241m=\u001b[39m \u001b[38;5;241m1\u001b[39m\n\u001b[1;32m    703\u001b[0m \u001b[38;5;28;01mif\u001b[39;00m (\n\u001b[1;32m    704\u001b[0m     \u001b[38;5;28mself\u001b[39m\u001b[38;5;241m.\u001b[39m_dataset_kind \u001b[38;5;241m==\u001b[39m _DatasetKind\u001b[38;5;241m.\u001b[39mIterable\n\u001b[1;32m    705\u001b[0m     \u001b[38;5;129;01mand\u001b[39;00m \u001b[38;5;28mself\u001b[39m\u001b[38;5;241m.\u001b[39m_IterableDataset_len_called \u001b[38;5;129;01mis\u001b[39;00m \u001b[38;5;129;01mnot\u001b[39;00m \u001b[38;5;28;01mNone\u001b[39;00m\n\u001b[1;32m    706\u001b[0m     \u001b[38;5;129;01mand\u001b[39;00m \u001b[38;5;28mself\u001b[39m\u001b[38;5;241m.\u001b[39m_num_yielded \u001b[38;5;241m>\u001b[39m \u001b[38;5;28mself\u001b[39m\u001b[38;5;241m.\u001b[39m_IterableDataset_len_called\n\u001b[1;32m    707\u001b[0m ):\n",
      "File \u001b[0;32m~/anaconda3/envs/cbm/lib/python3.9/site-packages/torch/utils/data/dataloader.py:757\u001b[0m, in \u001b[0;36m_SingleProcessDataLoaderIter._next_data\u001b[0;34m(self)\u001b[0m\n\u001b[1;32m    755\u001b[0m \u001b[38;5;28;01mdef\u001b[39;00m \u001b[38;5;21m_next_data\u001b[39m(\u001b[38;5;28mself\u001b[39m):\n\u001b[1;32m    756\u001b[0m     index \u001b[38;5;241m=\u001b[39m \u001b[38;5;28mself\u001b[39m\u001b[38;5;241m.\u001b[39m_next_index()  \u001b[38;5;66;03m# may raise StopIteration\u001b[39;00m\n\u001b[0;32m--> 757\u001b[0m     data \u001b[38;5;241m=\u001b[39m \u001b[38;5;28;43mself\u001b[39;49m\u001b[38;5;241;43m.\u001b[39;49m\u001b[43m_dataset_fetcher\u001b[49m\u001b[38;5;241;43m.\u001b[39;49m\u001b[43mfetch\u001b[49m\u001b[43m(\u001b[49m\u001b[43mindex\u001b[49m\u001b[43m)\u001b[49m  \u001b[38;5;66;03m# may raise StopIteration\u001b[39;00m\n\u001b[1;32m    758\u001b[0m     \u001b[38;5;28;01mif\u001b[39;00m \u001b[38;5;28mself\u001b[39m\u001b[38;5;241m.\u001b[39m_pin_memory:\n\u001b[1;32m    759\u001b[0m         data \u001b[38;5;241m=\u001b[39m _utils\u001b[38;5;241m.\u001b[39mpin_memory\u001b[38;5;241m.\u001b[39mpin_memory(data, \u001b[38;5;28mself\u001b[39m\u001b[38;5;241m.\u001b[39m_pin_memory_device)\n",
      "File \u001b[0;32m~/anaconda3/envs/cbm/lib/python3.9/site-packages/torch/utils/data/_utils/fetch.py:50\u001b[0m, in \u001b[0;36m_MapDatasetFetcher.fetch\u001b[0;34m(self, possibly_batched_index)\u001b[0m\n\u001b[1;32m     48\u001b[0m \u001b[38;5;28;01mif\u001b[39;00m \u001b[38;5;28mself\u001b[39m\u001b[38;5;241m.\u001b[39mauto_collation:\n\u001b[1;32m     49\u001b[0m     \u001b[38;5;28;01mif\u001b[39;00m \u001b[38;5;28mhasattr\u001b[39m(\u001b[38;5;28mself\u001b[39m\u001b[38;5;241m.\u001b[39mdataset, \u001b[38;5;124m\"\u001b[39m\u001b[38;5;124m__getitems__\u001b[39m\u001b[38;5;124m\"\u001b[39m) \u001b[38;5;129;01mand\u001b[39;00m \u001b[38;5;28mself\u001b[39m\u001b[38;5;241m.\u001b[39mdataset\u001b[38;5;241m.\u001b[39m__getitems__:\n\u001b[0;32m---> 50\u001b[0m         data \u001b[38;5;241m=\u001b[39m \u001b[38;5;28;43mself\u001b[39;49m\u001b[38;5;241;43m.\u001b[39;49m\u001b[43mdataset\u001b[49m\u001b[38;5;241;43m.\u001b[39;49m\u001b[43m__getitems__\u001b[49m\u001b[43m(\u001b[49m\u001b[43mpossibly_batched_index\u001b[49m\u001b[43m)\u001b[49m\n\u001b[1;32m     51\u001b[0m     \u001b[38;5;28;01melse\u001b[39;00m:\n\u001b[1;32m     52\u001b[0m         data \u001b[38;5;241m=\u001b[39m [\u001b[38;5;28mself\u001b[39m\u001b[38;5;241m.\u001b[39mdataset[idx] \u001b[38;5;28;01mfor\u001b[39;00m idx \u001b[38;5;129;01min\u001b[39;00m possibly_batched_index]\n",
      "File \u001b[0;32m~/anaconda3/envs/cbm/lib/python3.9/site-packages/torch/utils/data/dataset.py:420\u001b[0m, in \u001b[0;36mSubset.__getitems__\u001b[0;34m(self, indices)\u001b[0m\n\u001b[1;32m    418\u001b[0m     \u001b[38;5;28;01mreturn\u001b[39;00m \u001b[38;5;28mself\u001b[39m\u001b[38;5;241m.\u001b[39mdataset\u001b[38;5;241m.\u001b[39m__getitems__([\u001b[38;5;28mself\u001b[39m\u001b[38;5;241m.\u001b[39mindices[idx] \u001b[38;5;28;01mfor\u001b[39;00m idx \u001b[38;5;129;01min\u001b[39;00m indices])  \u001b[38;5;66;03m# type: ignore[attr-defined]\u001b[39;00m\n\u001b[1;32m    419\u001b[0m \u001b[38;5;28;01melse\u001b[39;00m:\n\u001b[0;32m--> 420\u001b[0m     \u001b[38;5;28;01mreturn\u001b[39;00m [\u001b[38;5;28mself\u001b[39m\u001b[38;5;241m.\u001b[39mdataset[\u001b[38;5;28mself\u001b[39m\u001b[38;5;241m.\u001b[39mindices[idx]] \u001b[38;5;28;01mfor\u001b[39;00m idx \u001b[38;5;129;01min\u001b[39;00m indices]\n",
      "File \u001b[0;32m~/anaconda3/envs/cbm/lib/python3.9/site-packages/torch/utils/data/dataset.py:420\u001b[0m, in \u001b[0;36m<listcomp>\u001b[0;34m(.0)\u001b[0m\n\u001b[1;32m    418\u001b[0m     \u001b[38;5;28;01mreturn\u001b[39;00m \u001b[38;5;28mself\u001b[39m\u001b[38;5;241m.\u001b[39mdataset\u001b[38;5;241m.\u001b[39m__getitems__([\u001b[38;5;28mself\u001b[39m\u001b[38;5;241m.\u001b[39mindices[idx] \u001b[38;5;28;01mfor\u001b[39;00m idx \u001b[38;5;129;01min\u001b[39;00m indices])  \u001b[38;5;66;03m# type: ignore[attr-defined]\u001b[39;00m\n\u001b[1;32m    419\u001b[0m \u001b[38;5;28;01melse\u001b[39;00m:\n\u001b[0;32m--> 420\u001b[0m     \u001b[38;5;28;01mreturn\u001b[39;00m [\u001b[38;5;28;43mself\u001b[39;49m\u001b[38;5;241;43m.\u001b[39;49m\u001b[43mdataset\u001b[49m\u001b[43m[\u001b[49m\u001b[38;5;28;43mself\u001b[39;49m\u001b[38;5;241;43m.\u001b[39;49m\u001b[43mindices\u001b[49m\u001b[43m[\u001b[49m\u001b[43midx\u001b[49m\u001b[43m]\u001b[49m\u001b[43m]\u001b[49m \u001b[38;5;28;01mfor\u001b[39;00m idx \u001b[38;5;129;01min\u001b[39;00m indices]\n",
      "Cell \u001b[0;32mIn[4], line 12\u001b[0m, in \u001b[0;36mSyntheticDataset.__getitem__\u001b[0;34m(self, idx)\u001b[0m\n\u001b[1;32m     11\u001b[0m \u001b[38;5;28;01mdef\u001b[39;00m \u001b[38;5;21m__getitem__\u001b[39m(\u001b[38;5;28mself\u001b[39m, idx):\n\u001b[0;32m---> 12\u001b[0m     \u001b[38;5;28;01mreturn\u001b[39;00m \u001b[38;5;28mself\u001b[39m\u001b[38;5;241m.\u001b[39mdata[idx,:\u001b[38;5;28mself\u001b[39m\u001b[38;5;241m.\u001b[39mx_num], \u001b[38;5;28;43mself\u001b[39;49m\u001b[38;5;241;43m.\u001b[39;49m\u001b[43mdata\u001b[49m\u001b[43m[\u001b[49m\u001b[43midx\u001b[49m\u001b[43m,\u001b[49m\u001b[38;5;28;43mself\u001b[39;49m\u001b[38;5;241;43m.\u001b[39;49m\u001b[43mx_num\u001b[49m\u001b[38;5;241;43m+\u001b[39;49m\u001b[38;5;28;43mself\u001b[39;49m\u001b[38;5;241;43m.\u001b[39;49m\u001b[43mc_num\u001b[49m\u001b[43m:\u001b[49m\u001b[43m]\u001b[49m, \u001b[38;5;28mself\u001b[39m\u001b[38;5;241m.\u001b[39mdata[idx,\u001b[38;5;28mself\u001b[39m\u001b[38;5;241m.\u001b[39mx_num:\u001b[38;5;28mself\u001b[39m\u001b[38;5;241m.\u001b[39mx_num\u001b[38;5;241m+\u001b[39m\u001b[38;5;28mself\u001b[39m\u001b[38;5;241m.\u001b[39mc_num]\n",
      "\u001b[0;31mKeyboardInterrupt\u001b[0m: "
     ]
    }
   ],
   "source": [
    "epochs = 10\n",
    "for epoch in range(epochs):\n",
    "    loss_meter.reset()\n",
    "    y_acc_meter.reset()\n",
    "    c_acc_meter.reset()\n",
    "    for batch, (x, y, c) in enumerate(train_loader):\n",
    "        x = x.to(device)\n",
    "        y = y.squeeze().type(torch.LongTensor).to(device)\n",
    "        c = c.to(device)\n",
    "        \n",
    "        c_pred, y_pred = pred_model(x)\n",
    "        # print(torch.mean(c_pred).item(), torch.mean(y_pred).item())\n",
    "        # print(c_pred, '\\n', y_pred)\n",
    "\n",
    "\n",
    "        # c_loss = c_criterion(c_pred, c)\n",
    "        y_loss = y_criterion(y_pred, y)\n",
    "        loss = y_loss\n",
    "        # loss = c_coef*c_loss + y_coef*y_loss\n",
    "        \n",
    "        optimizer.zero_grad()\n",
    "        loss.backward()\n",
    "        optimizer.step()\n",
    "\n",
    "        loss_meter.update(loss.item(), x.shape[0])\n",
    "        c_acc_meter.update(multi_label_acc(c_pred, c), x.shape[0])\n",
    "        y_acc_meter.update(classification_acc(y_pred, y), x.shape[0])\n",
    "    \n",
    "    print(f\"Epoch: {epoch} Loss: {loss_meter.avg} c_acc: {c_acc_meter.avg} y_acc: {y_acc_meter.avg}\")"
   ]
  },
  {
   "cell_type": "code",
   "execution_count": null,
   "metadata": {},
   "outputs": [],
   "source": [
    "\n",
    "loss_meter.reset()\n",
    "y_acc_meter.reset()\n",
    "c_acc_meter.reset()\n",
    "for x, y, c in test_loader:\n",
    "    x = x.to(device)\n",
    "    y = y.to(device)\n",
    "    c = c.to(device)\n",
    "    c_pred, y_pred = pred_model(x)\n",
    "    c_loss = c_criterion(c_pred, c)\n",
    "    y_loss = y_criterion(y_pred, y)\n",
    "    loss = c_coef*c_loss + y_coef*y_loss\n",
    "\n",
    "    loss_meter.update(loss.item(), x.shape[0])\n",
    "    c_acc_meter.update(multi_label_acc(c_pred, c), x.shape[0])\n",
    "    y_acc_meter.update(classification_acc(y_pred, y), x.shape)\n",
    "    \n",
    "    optimizer.zero_grad()\n",
    "    loss.backward()\n",
    "    optimizer.step()\n",
    "\n",
    "print(f\"Test Loss: {loss_meter.avg} c_acc: {c_acc_meter.avg} y_acc: {y_acc_meter}\")"
   ]
  },
  {
   "cell_type": "code",
   "execution_count": null,
   "metadata": {},
   "outputs": [],
   "source": []
  }
 ],
 "metadata": {
  "kernelspec": {
   "display_name": "cbm",
   "language": "python",
   "name": "python3"
  },
  "language_info": {
   "codemirror_mode": {
    "name": "ipython",
    "version": 3
   },
   "file_extension": ".py",
   "mimetype": "text/x-python",
   "name": "python",
   "nbconvert_exporter": "python",
   "pygments_lexer": "ipython3",
   "version": "3.9.20"
  }
 },
 "nbformat": 4,
 "nbformat_minor": 2
}

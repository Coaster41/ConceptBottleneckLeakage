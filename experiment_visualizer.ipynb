{
 "cells": [
  {
   "cell_type": "code",
   "execution_count": 1,
   "metadata": {},
   "outputs": [],
   "source": [
    "import matplotlib.pyplot as plt\n",
    "import json\n",
    "import pandas as pd\n",
    "import numpy as np\n",
    "import matplotlib.patches as mpatches\n"
   ]
  },
  {
   "cell_type": "code",
   "execution_count": 7,
   "metadata": {},
   "outputs": [],
   "source": [
    "config_file = \"configs/experiment_results_synthetic_100.json\"\n",
    "with open(config_file) as json_file:\n",
    "    results = json.load(json_file)\n",
    "\n",
    "# experiments = ['baseNN', 'softCBM', 'latentCBM', 'leakageLoss', 'leakageDelay', 'sequentialCBM', 'sequentialLeakage']\n",
    "# experiments = ['softCBM', 'latentCBM', 'sequentialLeakage', 'hardCBM', 'hardLatentCBM', 'hardLeakageCBM', 'hardSequentialLeakage']\n",
    "# experiments = ['sequentialCBM', 'sequentialLatentCBM', 'sequentialLeakage', 'hardSequentialLeakage', 'hardSequentialLatentCBM']\n",
    "# experiments = ['baseNN', 'softCBM', 'latentCBM', 'leakageLoss', 'leakageDelay', 'sequentialLeakage', 'sequentialLatentCBM', 'hardCBM', 'hardLatentCBM', 'hardLeakageCBM', 'hardSequentialLeakage', 'hardSequentialLatentCBM', 'hardDelaySequentialLeakage', 'hardDelaySequentialLatent']\n",
    "# experiments = ['baseNN', 'hardCBM', 'hardSequentialLeakage', 'hardSequentialLatentCBM']\n",
    "experiments = [\"latentCBM\", \"leakageLoss\", \"leakageDelay\", \"sequentialLeakage\", \"sequentialLatentCBM\",  \"hardLatentCBM\", \n",
    "                \"hardLeakageCBM\", \"hardSequentialLeakage\", \"hardSequentialLatentCBM\", \"hardDelaySequentialLeakage\", \"hardDelaySequentialLatent\"]\n",
    "# experiments = [\"hardLeakageCBM\", \"hardSequentialLeakage\", \"hardDelaySequentialLeakage\"]\n",
    "# experiments = [\"hardSequentialLeakage\", \"hardDelaySequentialLatent\"]\n",
    "expr_results = []\n",
    "expr_interventions = []\n",
    "for expr in experiments:\n",
    "    expr_results.append(results[expr]['results']['Label Accuracy'])\n",
    "    expr_interventions.append(np.array(results[expr]['results']['Intervention Label Accuracy'])[:,0])\n",
    "\n",
    "second_plot = 1\n",
    "if second_plot:\n",
    "    config_file = \"configs/experiment_results_synthetic_10_scramble.json\"\n",
    "    with open(config_file) as json_file:\n",
    "        results = json.load(json_file)\n",
    "    expr_results_2 = []\n",
    "    for expr in experiments:\n",
    "        expr_results_2.append(results[expr]['results']['Label Accuracy'])"
   ]
  },
  {
   "cell_type": "code",
   "execution_count": null,
   "metadata": {},
   "outputs": [
    {
     "ename": "KeyError",
     "evalue": "'hardSeqLatent'",
     "output_type": "error",
     "traceback": [
      "\u001b[1;31m---------------------------------------------------------------------------\u001b[0m",
      "\u001b[1;31mKeyError\u001b[0m                                  Traceback (most recent call last)",
      "Cell \u001b[1;32mIn[8], line 5\u001b[0m\n\u001b[0;32m      3\u001b[0m expr_names \u001b[38;5;241m=\u001b[39m [name_map[expr] \u001b[38;5;28;01mfor\u001b[39;00m expr \u001b[38;5;129;01min\u001b[39;00m experiments]\u001b[38;5;66;03m# colors = ['tomato', 'orange', 'beige', 'limegreen', 'limegreen', 'limegreen', 'beige', 'orange', 'beige', 'limegreen', 'limegreen', 'beige', 'limegreen', 'beige']\u001b[39;00m\n\u001b[0;32m      4\u001b[0m color_map \u001b[38;5;241m=\u001b[39m {\u001b[38;5;124m'\u001b[39m\u001b[38;5;124mbaseNN\u001b[39m\u001b[38;5;124m'\u001b[39m: \u001b[38;5;124m'\u001b[39m\u001b[38;5;124mtomato\u001b[39m\u001b[38;5;124m'\u001b[39m, \u001b[38;5;124m'\u001b[39m\u001b[38;5;124msoftCBM\u001b[39m\u001b[38;5;124m'\u001b[39m: \u001b[38;5;124m'\u001b[39m\u001b[38;5;124morange\u001b[39m\u001b[38;5;124m'\u001b[39m, \u001b[38;5;124m'\u001b[39m\u001b[38;5;124msoftLatent\u001b[39m\u001b[38;5;124m'\u001b[39m: \u001b[38;5;124m'\u001b[39m\u001b[38;5;124mbeige\u001b[39m\u001b[38;5;124m'\u001b[39m, \u001b[38;5;124m'\u001b[39m\u001b[38;5;124msoftLeakage\u001b[39m\u001b[38;5;124m'\u001b[39m: \u001b[38;5;124m'\u001b[39m\u001b[38;5;124mlimegreen\u001b[39m\u001b[38;5;124m'\u001b[39m, \u001b[38;5;124m'\u001b[39m\u001b[38;5;124msoftLeakageDelay\u001b[39m\u001b[38;5;124m'\u001b[39m: \u001b[38;5;124m'\u001b[39m\u001b[38;5;124mlimegreen\u001b[39m\u001b[38;5;124m'\u001b[39m, \u001b[38;5;124m'\u001b[39m\u001b[38;5;124msoftSeqLeakage\u001b[39m\u001b[38;5;124m'\u001b[39m: \u001b[38;5;124m'\u001b[39m\u001b[38;5;124mlimegreen\u001b[39m\u001b[38;5;124m'\u001b[39m, \u001b[38;5;124m'\u001b[39m\u001b[38;5;124msoftSeqLatent\u001b[39m\u001b[38;5;124m'\u001b[39m: \u001b[38;5;124m'\u001b[39m\u001b[38;5;124mbeige\u001b[39m\u001b[38;5;124m'\u001b[39m, \u001b[38;5;124m'\u001b[39m\u001b[38;5;124mhardCBM\u001b[39m\u001b[38;5;124m'\u001b[39m: \u001b[38;5;124m'\u001b[39m\u001b[38;5;124morange\u001b[39m\u001b[38;5;124m'\u001b[39m, \u001b[38;5;124m'\u001b[39m\u001b[38;5;124mhardLatent\u001b[39m\u001b[38;5;124m'\u001b[39m: \u001b[38;5;124m'\u001b[39m\u001b[38;5;124mbeige\u001b[39m\u001b[38;5;124m'\u001b[39m, \u001b[38;5;124m'\u001b[39m\u001b[38;5;124mhardLeakage\u001b[39m\u001b[38;5;124m'\u001b[39m: \u001b[38;5;124m'\u001b[39m\u001b[38;5;124mlimegreen\u001b[39m\u001b[38;5;124m'\u001b[39m, \u001b[38;5;124m'\u001b[39m\u001b[38;5;124mhardSeqLeakage\u001b[39m\u001b[38;5;124m'\u001b[39m: \u001b[38;5;124m'\u001b[39m\u001b[38;5;124mlimegreen\u001b[39m\u001b[38;5;124m'\u001b[39m, \u001b[38;5;124m'\u001b[39m\u001b[38;5;124mhardSequLatent\u001b[39m\u001b[38;5;124m'\u001b[39m: \u001b[38;5;124m'\u001b[39m\u001b[38;5;124mbeige\u001b[39m\u001b[38;5;124m'\u001b[39m, \u001b[38;5;124m'\u001b[39m\u001b[38;5;124mhardDelaySeqLeakage\u001b[39m\u001b[38;5;124m'\u001b[39m: \u001b[38;5;124m'\u001b[39m\u001b[38;5;124mlimegreen\u001b[39m\u001b[38;5;124m'\u001b[39m, \u001b[38;5;124m'\u001b[39m\u001b[38;5;124mhardDelaySeqLatent\u001b[39m\u001b[38;5;124m'\u001b[39m: \u001b[38;5;124m'\u001b[39m\u001b[38;5;124mbeige\u001b[39m\u001b[38;5;124m'\u001b[39m}\n\u001b[1;32m----> 5\u001b[0m colors \u001b[38;5;241m=\u001b[39m [color_map[name] \u001b[38;5;28;01mfor\u001b[39;00m name \u001b[38;5;129;01min\u001b[39;00m expr_names]\n\u001b[0;32m      7\u001b[0m boxplots \u001b[38;5;241m=\u001b[39m \u001b[38;5;241m1\u001b[39m\n\u001b[0;32m      8\u001b[0m \u001b[38;5;28;01mif\u001b[39;00m boxplots:\n",
      "Cell \u001b[1;32mIn[8], line 5\u001b[0m, in \u001b[0;36m<listcomp>\u001b[1;34m(.0)\u001b[0m\n\u001b[0;32m      3\u001b[0m expr_names \u001b[38;5;241m=\u001b[39m [name_map[expr] \u001b[38;5;28;01mfor\u001b[39;00m expr \u001b[38;5;129;01min\u001b[39;00m experiments]\u001b[38;5;66;03m# colors = ['tomato', 'orange', 'beige', 'limegreen', 'limegreen', 'limegreen', 'beige', 'orange', 'beige', 'limegreen', 'limegreen', 'beige', 'limegreen', 'beige']\u001b[39;00m\n\u001b[0;32m      4\u001b[0m color_map \u001b[38;5;241m=\u001b[39m {\u001b[38;5;124m'\u001b[39m\u001b[38;5;124mbaseNN\u001b[39m\u001b[38;5;124m'\u001b[39m: \u001b[38;5;124m'\u001b[39m\u001b[38;5;124mtomato\u001b[39m\u001b[38;5;124m'\u001b[39m, \u001b[38;5;124m'\u001b[39m\u001b[38;5;124msoftCBM\u001b[39m\u001b[38;5;124m'\u001b[39m: \u001b[38;5;124m'\u001b[39m\u001b[38;5;124morange\u001b[39m\u001b[38;5;124m'\u001b[39m, \u001b[38;5;124m'\u001b[39m\u001b[38;5;124msoftLatent\u001b[39m\u001b[38;5;124m'\u001b[39m: \u001b[38;5;124m'\u001b[39m\u001b[38;5;124mbeige\u001b[39m\u001b[38;5;124m'\u001b[39m, \u001b[38;5;124m'\u001b[39m\u001b[38;5;124msoftLeakage\u001b[39m\u001b[38;5;124m'\u001b[39m: \u001b[38;5;124m'\u001b[39m\u001b[38;5;124mlimegreen\u001b[39m\u001b[38;5;124m'\u001b[39m, \u001b[38;5;124m'\u001b[39m\u001b[38;5;124msoftLeakageDelay\u001b[39m\u001b[38;5;124m'\u001b[39m: \u001b[38;5;124m'\u001b[39m\u001b[38;5;124mlimegreen\u001b[39m\u001b[38;5;124m'\u001b[39m, \u001b[38;5;124m'\u001b[39m\u001b[38;5;124msoftSeqLeakage\u001b[39m\u001b[38;5;124m'\u001b[39m: \u001b[38;5;124m'\u001b[39m\u001b[38;5;124mlimegreen\u001b[39m\u001b[38;5;124m'\u001b[39m, \u001b[38;5;124m'\u001b[39m\u001b[38;5;124msoftSeqLatent\u001b[39m\u001b[38;5;124m'\u001b[39m: \u001b[38;5;124m'\u001b[39m\u001b[38;5;124mbeige\u001b[39m\u001b[38;5;124m'\u001b[39m, \u001b[38;5;124m'\u001b[39m\u001b[38;5;124mhardCBM\u001b[39m\u001b[38;5;124m'\u001b[39m: \u001b[38;5;124m'\u001b[39m\u001b[38;5;124morange\u001b[39m\u001b[38;5;124m'\u001b[39m, \u001b[38;5;124m'\u001b[39m\u001b[38;5;124mhardLatent\u001b[39m\u001b[38;5;124m'\u001b[39m: \u001b[38;5;124m'\u001b[39m\u001b[38;5;124mbeige\u001b[39m\u001b[38;5;124m'\u001b[39m, \u001b[38;5;124m'\u001b[39m\u001b[38;5;124mhardLeakage\u001b[39m\u001b[38;5;124m'\u001b[39m: \u001b[38;5;124m'\u001b[39m\u001b[38;5;124mlimegreen\u001b[39m\u001b[38;5;124m'\u001b[39m, \u001b[38;5;124m'\u001b[39m\u001b[38;5;124mhardSeqLeakage\u001b[39m\u001b[38;5;124m'\u001b[39m: \u001b[38;5;124m'\u001b[39m\u001b[38;5;124mlimegreen\u001b[39m\u001b[38;5;124m'\u001b[39m, \u001b[38;5;124m'\u001b[39m\u001b[38;5;124mhardSequLatent\u001b[39m\u001b[38;5;124m'\u001b[39m: \u001b[38;5;124m'\u001b[39m\u001b[38;5;124mbeige\u001b[39m\u001b[38;5;124m'\u001b[39m, \u001b[38;5;124m'\u001b[39m\u001b[38;5;124mhardDelaySeqLeakage\u001b[39m\u001b[38;5;124m'\u001b[39m: \u001b[38;5;124m'\u001b[39m\u001b[38;5;124mlimegreen\u001b[39m\u001b[38;5;124m'\u001b[39m, \u001b[38;5;124m'\u001b[39m\u001b[38;5;124mhardDelaySeqLatent\u001b[39m\u001b[38;5;124m'\u001b[39m: \u001b[38;5;124m'\u001b[39m\u001b[38;5;124mbeige\u001b[39m\u001b[38;5;124m'\u001b[39m}\n\u001b[1;32m----> 5\u001b[0m colors \u001b[38;5;241m=\u001b[39m [\u001b[43mcolor_map\u001b[49m\u001b[43m[\u001b[49m\u001b[43mname\u001b[49m\u001b[43m]\u001b[49m \u001b[38;5;28;01mfor\u001b[39;00m name \u001b[38;5;129;01min\u001b[39;00m expr_names]\n\u001b[0;32m      7\u001b[0m boxplots \u001b[38;5;241m=\u001b[39m \u001b[38;5;241m1\u001b[39m\n\u001b[0;32m      8\u001b[0m \u001b[38;5;28;01mif\u001b[39;00m boxplots:\n",
      "\u001b[1;31mKeyError\u001b[0m: 'hardSeqLatent'"
     ]
    },
    {
     "data": {
      "text/plain": [
       "<Figure size 500x500 with 0 Axes>"
      ]
     },
     "metadata": {},
     "output_type": "display_data"
    }
   ],
   "source": [
    "plt.figure(figsize=(5,5))\n",
    "name_map = {'baseNN': 'baseNN', 'softCBM': 'softCBM', 'latentCBM': 'softLatent', 'leakageLoss': 'softLeakage', 'leakageDelay': 'softLeakageDelay', 'sequentialLeakage': 'softSeqLeakage', 'sequentialLatentCBM': 'softSeqLatent', 'hardCBM': 'hardCBM', 'hardLatentCBM': 'hardLatent', 'hardLeakageCBM': 'hardLeakage', 'hardSequentialLeakage': 'hardSeqLeakage', 'hardSequentialLatentCBM': 'hardSeqLatent', 'hardDelaySequentialLeakage': 'hardDelaySeqLeakage', 'hardDelaySequentialLatent': 'hardDelaySeqLatent'}\n",
    "expr_names = [name_map[expr] for expr in experiments]# colors = ['tomato', 'orange', 'beige', 'limegreen', 'limegreen', 'limegreen', 'beige', 'orange', 'beige', 'limegreen', 'limegreen', 'beige', 'limegreen', 'beige']\n",
    "color_map = {'baseNN': 'tomato', 'softCBM': 'orange', 'softLatent': 'beige', 'softLeakage': 'limegreen', 'softLeakageDelay': 'limegreen', 'softSeqLeakage': 'limegreen', 'softSeqLatent': 'beige', 'hardCBM': 'orange', 'hardLatent': 'beige', 'hardLeakage': 'limegreen', 'hardSeqLeakage': 'limegreen', 'hardSeqLatent': 'beige', 'hardDelaySeqLeakage': 'limegreen', 'hardDelaySeqLatent': 'beige'}\n",
    "colors = [color_map[name] for name in expr_names]\n",
    "\n",
    "boxplots = 1\n",
    "if boxplots:\n",
    "    boxes = plt.boxplot(expr_results, tick_labels=expr_names, patch_artist=True, medianprops={'color': 'black'}, widths=0.4)\n",
    "    for box, color in zip(boxes['boxes'], colors):\n",
    "        box.set(facecolor=color)\n",
    "\n",
    "    if second_plot:\n",
    "        boxes = plt.boxplot(expr_results_2, tick_labels=expr_names, patch_artist=True, medianprops={'linestyle': '--', 'color': 'black'}, boxprops={'linestyle': '--'}, whiskerprops={'linestyle': '--', 'alpha': 0.5}, widths=0.4)\n",
    "        for box, color in zip(boxes['boxes'], colors):\n",
    "            box.set(facecolor=color, alpha=0.5)\n",
    "else: # bar plots\n",
    "    plt.bar(expr_names, np.median(1-np.array(expr_results), axis=1), color=colors)\n",
    "    plt.scatter(expr_names, np.median(1-np.array(expr_interventions), axis=1), color='black', label='4 Interventions', marker=\"_\", s=10000)\n",
    "\n",
    "tomato_patch = mpatches.Patch(color='tomato', label='Base NN')\n",
    "orange_patch = mpatches.Patch(color='orange', label='Base CBM')\n",
    "beige_patch = mpatches.Patch(color='beige', label='Latent CBM')\n",
    "limegreen_patch = mpatches.Patch(color='limegreen', label='Leakage NN')\n",
    "plt.title(\"Original vs Top-4 Intervention Error\")\n",
    "plt.ylabel(\"Label Top-1 Error\")\n",
    "plt.legend(handles=[tomato_patch, orange_patch, beige_patch, limegreen_patch])\n",
    "plt.grid(axis='y')\n",
    "plt.show()"
   ]
  },
  {
   "cell_type": "code",
   "execution_count": 68,
   "metadata": {},
   "outputs": [
    {
     "name": "stdout",
     "output_type": "stream",
     "text": [
      "[0.26965  0.203275] [0.1892 0.1006] [0.08045  0.102675]\n"
     ]
    }
   ],
   "source": [
    "print(np.median(1-np.array(expr_results), axis=1), np.median(1-np.array(expr_interventions), axis=1), np.median(1-np.array(expr_results), axis=1)-np.median(1-np.array(expr_interventions), axis=1))"
   ]
  },
  {
   "cell_type": "code",
   "execution_count": null,
   "metadata": {},
   "outputs": [],
   "source": []
  }
 ],
 "metadata": {
  "kernelspec": {
   "display_name": "cbm",
   "language": "python",
   "name": "python3"
  },
  "language_info": {
   "codemirror_mode": {
    "name": "ipython",
    "version": 3
   },
   "file_extension": ".py",
   "mimetype": "text/x-python",
   "name": "python",
   "nbconvert_exporter": "python",
   "pygments_lexer": "ipython3",
   "version": "3.9.20"
  }
 },
 "nbformat": 4,
 "nbformat_minor": 2
}

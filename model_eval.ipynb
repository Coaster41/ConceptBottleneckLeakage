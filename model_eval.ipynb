{
 "cells": [
  {
   "cell_type": "code",
   "execution_count": 19,
   "metadata": {},
   "outputs": [
    {
     "name": "stdout",
     "output_type": "stream",
     "text": [
      "cuda\n"
     ]
    }
   ],
   "source": [
    "import torch.nn as nn\n",
    "import torch\n",
    "import os\n",
    "import matplotlib.pyplot as plt\n",
    "\n",
    "from train import load_data, eval\n",
    "from models import *\n",
    "from loss import leakage_loss\n",
    "from sklearn.metrics import f1_score, precision_score, recall_score, roc_auc_score\n",
    "from sklearn.metrics import confusion_matrix, ConfusionMatrixDisplay\n",
    "import json\n",
    "import numpy as np\n",
    "\n",
    "device = 'cuda' if torch.cuda.is_available() else 'cpu'\n",
    "print(device)"
   ]
  },
  {
   "cell_type": "code",
   "execution_count": 20,
   "metadata": {},
   "outputs": [],
   "source": [
    "class AverageMeter(object):\n",
    "    \"\"\"\n",
    "    Computes and stores the average and current value\n",
    "    \"\"\"\n",
    "\n",
    "    def __init__(self):\n",
    "        self.reset()\n",
    "\n",
    "    def reset(self):\n",
    "        self.val = 0\n",
    "        self.avg = 0\n",
    "        self.sum = 0\n",
    "        self.count = 0\n",
    "\n",
    "    def update(self, val, n=1):\n",
    "        self.val = val\n",
    "        self.sum += val * n\n",
    "        self.count += n\n",
    "        self.avg = self.sum / self.count"
   ]
  },
  {
   "cell_type": "code",
   "execution_count": 21,
   "metadata": {},
   "outputs": [],
   "source": [
    "data_path = \"data/college_acceptance_10001_gaussian.csv\"\n",
    "checkpoint_path = \"./checkpoints/no_latent_missing_concepts_7b94815f\"\n",
    "config_path = checkpoint_path+\"/config.json\"\n",
    "model_path = checkpoint_path+\"/model.pkl\""
   ]
  },
  {
   "cell_type": "code",
   "execution_count": 22,
   "metadata": {},
   "outputs": [],
   "source": [
    "with open(config_path, 'r') as file:\n",
    "    config = json.load(file)\n",
    "\n",
    "# Load from config\n",
    "expr_name = config.get(\"expr_name\")\n",
    "data_fn = config.get(\"data_loc\")\n",
    "X_headers = config.get(\"x_headers\")\n",
    "C_headers = config.get(\"c_headers\")\n",
    "Y_headers = config.get(\"y_headers\")\n",
    "batch_size = config.get(\"batch_size\", 1024)\n",
    "Cy_norm = config.get(\"normalize\", True)\n",
    "latents = config.get(\"n_latent\", 0)\n",
    "label_loss_str = config.get(\"y_criterion\", \"bce\")\n",
    "loss_dict = {\"bce\": nn.BCELoss(), \"bce_logits\": nn.BCEWithLogitsLoss(), \"mse\": nn.MSELoss(),\n",
    "            \"leakage\": leakage_loss, \"cross_entropy\": nn.CrossEntropyLoss()}\n",
    "label_criterion = loss_dict.get(label_loss_str, nn.BCELoss())\n",
    "label_weight = config.get(\"y_weight\", 1)\n",
    "concept_loss_str = config.get(\"c_criterion\", \"mse\")\n",
    "if isinstance(concept_loss_str, list):\n",
    "    concept_criterion = []\n",
    "    for criterion_str in concept_loss_str:\n",
    "        concept_criterion.append(loss_dict.get(criterion_str, nn.MSELoss()))\n",
    "else:\n",
    "    concept_criterion = loss_dict.get(concept_loss_str, nn.MSELoss())\n",
    "concept_weight = config.get(\"c_weight\", 0.5)\n",
    "latent_loss_str = config.get(\"l_criterion\", None)\n",
    "if not latent_loss_str:\n",
    "    latent_criterion = None\n",
    "else:\n",
    "    latent_criterion = loss_dict.get(latent_loss_str, leakage_loss)\n",
    "latent_weight = config.get(\"l_weight\", 0)\n",
    "\n",
    "x_to_c_params = config.get(\"x_to_c_model\", dict())\n",
    "xc_depth = x_to_c_params.get('depth', 4)\n",
    "xc_width = x_to_c_params.get('width', 32)\n",
    "xc_use_sigmoid = x_to_c_params.get('use_sigmoid', False)\n",
    "xc_use_relu = x_to_c_params.get('use_relu', True if not xc_use_sigmoid else False)\n",
    "xc_final_activation_str = x_to_c_params.get('final_activation', True)\n",
    "activation_dict = {\"relu\": nn.ReLU(), \"sigmoid\": nn.Sigmoid(), \"tanh\": nn.Tanh(), \"lrelu\": nn.LeakyReLU()}\n",
    "if isinstance(xc_final_activation_str, str):\n",
    "    xc_final_activation = activation_dict.get(xc_final_activation_str, False)\n",
    "else:\n",
    "    xc_final_activation = xc_final_activation_str\n",
    "\n",
    "c_to_y_params = config.get(\"c_to_y_model\", dict())\n",
    "cy_depth = c_to_y_params.get('depth', 3)\n",
    "cy_width = c_to_y_params.get('width', 16)\n",
    "cy_use_sigmoid = c_to_y_params.get('use_sigmoid', False)\n",
    "cy_use_relu = c_to_y_params.get('use_relu', True if not cy_use_sigmoid else False)\n",
    "cy_final_activation_str = c_to_y_params.get('final_activation', \"sigmoid\")\n",
    "if isinstance(cy_final_activation_str, str):\n",
    "    cy_final_activation = activation_dict.get(cy_final_activation_str, None)\n",
    "else:\n",
    "    cy_final_activation = cy_final_activation_str\n",
    "\n",
    "n_concepts = len(C_headers)\n",
    "y_criterion = label_criterion\n",
    "y_weight = label_weight"
   ]
  },
  {
   "cell_type": "code",
   "execution_count": 23,
   "metadata": {},
   "outputs": [
    {
     "data": {
      "text/plain": [
       "<All keys matched successfully>"
      ]
     },
     "execution_count": 23,
     "metadata": {},
     "output_type": "execute_result"
    }
   ],
   "source": [
    "_, test_loader, Cy_max = load_data(X_headers, C_headers, Y_headers, data_fn, Cy_norm=Cy_norm, batch_size=10**5)\n",
    "\n",
    "x_to_c_model = XtoCModel(len(X_headers), len(C_headers), latents, depth=xc_depth, width=xc_width,\n",
    "                         use_relu=xc_use_relu, use_sigmoid=xc_use_sigmoid, final_activation=xc_final_activation).to(device)\n",
    "c_to_y_model = CtoYModel(len(C_headers)+latents, len(Y_headers), depth=cy_depth, width=cy_width,\n",
    "                         use_relu=cy_use_relu, use_sigmoid=cy_use_sigmoid, final_activation=cy_final_activation).to(device)\n",
    "model = FullModel(x_to_c_model, c_to_y_model).to(device)\n",
    "model.load_state_dict(torch.load(model_path, weights_only=True))"
   ]
  },
  {
   "cell_type": "code",
   "execution_count": 24,
   "metadata": {},
   "outputs": [
    {
     "name": "stdout",
     "output_type": "stream",
     "text": [
      "0 71601\n",
      "Test Results:\n",
      "Label Loss: 0.3186, Accuracy: 0.8644, Concept Loss: 0.0027\n",
      "F1 Score: 0.8312, Precision: 0.8973, Recall: 0.7742, ROCAUC: 0.9456\n"
     ]
    }
   ],
   "source": [
    "running_loss = AverageMeter()\n",
    "running_accuracy = AverageMeter()\n",
    "f1_score_meter = AverageMeter()\n",
    "precision = AverageMeter()\n",
    "recall = AverageMeter()\n",
    "rocauc = AverageMeter()\n",
    "concept_loss = AverageMeter()\n",
    "model.eval()\n",
    "\n",
    "for batch, data in enumerate(test_loader):\n",
    "    X, Cy = data\n",
    "    X = X.to(device)\n",
    "    Cy = Cy.to(device)\n",
    "    C = Cy[:,:n_concepts]\n",
    "    y = Cy[:, n_concepts:]\n",
    "    print(batch, X.shape[0])\n",
    "\n",
    "\n",
    "    c_out, y_out = model(X)\n",
    "    losses = []\n",
    "\n",
    "    # Label Loss\n",
    "    losses.append(y_weight * y_criterion(y_out, y))\n",
    "    \n",
    "    # Concept Loss\n",
    "    if isinstance(concept_criterion, list):\n",
    "        for i in range(len(concept_criterion)):\n",
    "            if isinstance(concept_weight, list):\n",
    "                c_weight = concept_weight[i]\n",
    "            else:\n",
    "                c_weight = concept_weight\n",
    "            losses.append(c_weight * concept_criterion[i](c_out[:,i], C[:,i]))\n",
    "    else:\n",
    "        losses.append(concept_weight * concept_criterion(c_out[:,:n_concepts], C))\n",
    "        \n",
    "    # Latent Loss\n",
    "    if latent_criterion:\n",
    "        losses.append(latent_weight * latent_criterion(c_out[:,:n_concepts], c_out[:,n_concepts:]))\n",
    "        \n",
    "    loss = sum(losses)\n",
    "\n",
    "    y_np = data[1][:, n_concepts:]\n",
    "    y_pred = y_out.cpu().detach().numpy()\n",
    "    y_pred_round = np.round(y_pred)\n",
    "    batch_size_prop = X.shape[0]/test_loader.batch_size\n",
    "    running_loss.update(loss.item(), batch_size_prop)\n",
    "    running_accuracy.update(torch.mean((y == torch.round(y_out)).float()).item(), batch_size_prop)\n",
    "    f1_score_meter.update(f1_score(y_np, y_pred_round), batch_size_prop)\n",
    "    precision.update(precision_score(y_np, y_pred_round), batch_size_prop)\n",
    "    recall.update(recall_score(y_np, y_pred_round), batch_size_prop)\n",
    "    rocauc.update(roc_auc_score(y_np, y_pred), batch_size_prop)\n",
    "    concept_loss.update(sum(losses[1:1+n_concepts]).item()/n_concepts, batch_size_prop)\n",
    "\n",
    "\n",
    "print(\"Test Results:\")\n",
    "print(\"Label Loss: {:.4f}, Accuracy: {:.4f}, Concept Loss: {:.4f}\".format(running_loss.avg, running_accuracy.avg, concept_loss.avg))\n",
    "print(\"F1 Score: {:.4f}, Precision: {:.4f}, Recall: {:.4f}, ROCAUC: {:.4f}\".format(f1_score_meter.avg, precision.avg, recall.avg, rocauc.avg))"
   ]
  },
  {
   "cell_type": "code",
   "execution_count": 25,
   "metadata": {},
   "outputs": [
    {
     "data": {
      "text/plain": [
       "<Figure size 1400x1400 with 0 Axes>"
      ]
     },
     "metadata": {},
     "output_type": "display_data"
    },
    {
     "data": {
      "image/png": "[encoded data removed]",
      "text/plain": [
       "<Figure size 640x480 with 2 Axes>"
      ]
     },
     "metadata": {},
     "output_type": "display_data"
    }
   ],
   "source": [
    "cm = confusion_matrix(y_np, y_pred_round)\n",
    "disp = ConfusionMatrixDisplay(confusion_matrix=cm)\n",
    "plt.figure(figsize=(14,14))\n",
    "disp.plot()\n",
    "plt.show()"
   ]
  },
  {
   "cell_type": "code",
   "execution_count": 29,
   "metadata": {},
   "outputs": [
    {
     "data": {
      "image/png": "[encoded data removed]",
      "text/plain": [
       "<Figure size 640x480 with 2 Axes>"
      ]
     },
     "metadata": {},
     "output_type": "display_data"
    }
   ],
   "source": [
    "college_levels = np.unique(data[0][:, X_headers.index(\"collegeLevel\")])\n",
    "index = np.in1d(data[0][:, X_headers.index(\"collegeLevel\")], [college_levels[3]])\n",
    "y_test2 = y_np[index,-1]\n",
    "y_pred2 = y_pred_round[index]\n",
    "cm = confusion_matrix(y_test2, y_pred2)\n",
    "disp = ConfusionMatrixDisplay(confusion_matrix=cm)\n",
    "disp.plot()\n",
    "plt.show()"
   ]
  },
  {
   "cell_type": "code",
   "execution_count": null,
   "metadata": {},
   "outputs": [],
   "source": []
  }
 ],
 "metadata": {
  "kernelspec": {
   "display_name": "cbm",
   "language": "python",
   "name": "python3"
  },
  "language_info": {
   "codemirror_mode": {
    "name": "ipython",
    "version": 3
   },
   "file_extension": ".py",
   "mimetype": "text/x-python",
   "name": "python",
   "nbconvert_exporter": "python",
   "pygments_lexer": "ipython3",
   "version": "3.9.20"
  }
 },
 "nbformat": 4,
 "nbformat_minor": 2
}
